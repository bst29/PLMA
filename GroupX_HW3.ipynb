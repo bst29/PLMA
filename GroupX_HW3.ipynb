{
  "nbformat": 4,
  "nbformat_minor": 0,
  "metadata": {
    "colab": {
      "provenance": []
    },
    "kernelspec": {
      "name": "python3",
      "display_name": "Python 3"
    },
    "language_info": {
      "name": "python"
    }
  },
  "cells": [
    {
      "cell_type": "code",
      "execution_count": 1,
      "metadata": {
        "colab": {
          "base_uri": "https://localhost:8080/"
        },
        "id": "TjY8QnCamnV4",
        "outputId": "3c0b5fce-cbc5-43ab-8ba0-23637f7bce3b"
      },
      "outputs": [
        {
          "output_type": "stream",
          "name": "stdout",
          "text": [
            "I'm a student\n"
          ]
        }
      ],
      "source": [
        "a = \"I'm a student\"\n",
        "print (a)"
      ]
    },
    {
      "cell_type": "code",
      "source": [
        "a = int(input('請輸入x1='))\n",
        "b = int(input('請輸入x2='))\n",
        "c = int(input('請輸入y1='))\n",
        "d = int(input('請輸入y2='))\n",
        "a -= c\n",
        "b -= d\n",
        "print((a**2+b**2)**(1/2))"
      ],
      "metadata": {
        "colab": {
          "base_uri": "https://localhost:8080/"
        },
        "id": "EWHdGikWkPgY",
        "outputId": "ad3e56fa-fa6e-414b-fc60-b5c7f6444289"
      },
      "execution_count": 7,
      "outputs": [
        {
          "output_type": "stream",
          "name": "stdout",
          "text": [
            "請輸入x1=0\n",
            "請輸入x2=0\n",
            "請輸入y1=3\n",
            "請輸入y2=4\n",
            "5.0\n"
          ]
        }
      ]
    },
    {
      "cell_type": "code",
      "source": [
        "a = float(input('請輸入身高：'))\n",
        "b = float(input('清輸入體重：'))\n",
        "a/=100\n",
        "a**=2\n",
        "b/=a\n",
        "print((b<18.5)*1)"
      ],
      "metadata": {
        "colab": {
          "base_uri": "https://localhost:8080/"
        },
        "id": "9nHq2U2ehcsP",
        "outputId": "7e7146ff-48dc-4f2b-f7b5-91047fe7d25b"
      },
      "execution_count": 1,
      "outputs": [
        {
          "output_type": "stream",
          "name": "stdout",
          "text": [
            "請輸入身高：180\n",
            "清輸入體重：55\n",
            "1\n"
          ]
        }
      ]
    }
  ]
}