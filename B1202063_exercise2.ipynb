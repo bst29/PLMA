{
  "nbformat": 4,
  "nbformat_minor": 0,
  "metadata": {
    "colab": {
      "provenance": []
    },
    "kernelspec": {
      "name": "python3",
      "display_name": "Python 3"
    },
    "language_info": {
      "name": "python"
    }
  },
  "cells": [
    {
      "cell_type": "code",
      "execution_count": null,
      "metadata": {
        "colab": {
          "base_uri": "https://localhost:8080/"
        },
        "id": "JfTTkO0BWY2Y",
        "outputId": "5117f158-b514-4ff4-dbff-04c6ccfe19ed"
      },
      "outputs": [
        {
          "output_type": "stream",
          "name": "stdout",
          "text": [
            "l\n"
          ]
        }
      ],
      "source": [
        "a = 'hello world'\n",
        "print(a[-2])"
      ]
    },
    {
      "cell_type": "code",
      "source": [
        "from IPython.utils.syspathcontext import appended_to_syspath\n",
        "a = 'C,B,A'\n",
        "b = ['F','G','H']\n",
        "c = a.split(',')\n",
        "d = c+b\n",
        "d[0] = 'K'\n",
        "e = d.pop(2)\n",
        "del d[1:3]\n",
        "d.append('U')\n",
        "print(d)\n",
        "print(e)\n"
      ],
      "metadata": {
        "colab": {
          "base_uri": "https://localhost:8080/"
        },
        "id": "dv9RV8y1YkTt",
        "outputId": "f04834a3-84ac-48d7-ce26-778776559c0e"
      },
      "execution_count": null,
      "outputs": [
        {
          "output_type": "stream",
          "name": "stdout",
          "text": [
            "['K', 'G', 'H', 'U']\n",
            "A\n"
          ]
        }
      ]
    },
    {
      "cell_type": "code",
      "source": [
        "a = float(input('請輸入身高：'))\n",
        "b = float(input('清輸入體重：'))\n",
        "a/=100\n",
        "a**=2\n",
        "b/=a\n",
        "if (b<18.5):\n",
        "  print('過輕')\n",
        "elif (18.5<=b<24):\n",
        "  print('適中')\n",
        "elif (24<=b<27):\n",
        "  print('過重')\n",
        "else:\n",
        "  print('肥胖')"
      ],
      "metadata": {
        "colab": {
          "base_uri": "https://localhost:8080/"
        },
        "id": "3Q5wHdF5kikQ",
        "outputId": "ae0c2f2a-169c-42fb-b7a6-874bd337e028"
      },
      "execution_count": null,
      "outputs": [
        {
          "output_type": "stream",
          "name": "stdout",
          "text": [
            "請輸入身高：180\n",
            "清輸入體重：55\n",
            "過輕\n"
          ]
        }
      ]
    }
  ]
}