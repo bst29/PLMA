{
  "nbformat": 4,
  "nbformat_minor": 0,
  "metadata": {
    "colab": {
      "provenance": []
    },
    "kernelspec": {
      "name": "python3",
      "display_name": "Python 3"
    },
    "language_info": {
      "name": "python"
    }
  },
  "cells": [
    {
      "cell_type": "code",
      "execution_count": 23,
      "metadata": {
        "colab": {
          "base_uri": "https://localhost:8080/"
        },
        "id": "71BDEUf0au-e",
        "outputId": "c83b1dad-9e3b-43c9-d755-389e2e4e9660"
      },
      "outputs": [
        {
          "output_type": "stream",
          "name": "stdout",
          "text": [
            "         *\n",
            "        ***\n",
            "       *****\n",
            "      *******\n",
            "     *********\n",
            "    ***********\n",
            "   *************\n",
            "  ***************\n",
            " *****************\n",
            "         *\n",
            "        ***\n",
            "        ***\n"
          ]
        }
      ],
      "source": [
        "height=9\n",
        "stars=1\n",
        "for i in range (height):\n",
        "  print((' ' * (height - i)) + ('*' * stars))\n",
        "  stars += 2\n",
        "print(' ' * height+'*')\n",
        "print(' '*8+'***')\n",
        "print(' '*8+'***')"
      ]
    },
    {
      "cell_type": "code",
      "source": [
        "import random\n",
        "answer = random.sample(range(1,10),4)\n",
        "print(answer)\n",
        "a = b = n = 0\n",
        "num = 0\n",
        "while a!=4:\n",
        "  num += 1\n",
        "  a = b = n = 0\n",
        "  user = list(input('請輸入四個數字：'))\n",
        "  for i in user:\n",
        "      if int(user[n]) == answer[n]:\n",
        "        a += 1\n",
        "      else:\n",
        "        if int(i) in answer:\n",
        "          b += 1\n",
        "      n += 1\n",
        "  output = ','.join(user).replace(',','')\n",
        "  print(f'{output}:{a}A{b}B')\n",
        "print(f'答對了！總共猜了{num}次')"
      ],
      "metadata": {
        "colab": {
          "base_uri": "https://localhost:8080/"
        },
        "id": "FEKQlVFcgCSi",
        "outputId": "5660308b-d41e-40c3-fa25-7e1fc53a2d18"
      },
      "execution_count": 15,
      "outputs": [
        {
          "output_type": "stream",
          "name": "stdout",
          "text": [
            "[6, 4, 1, 9]\n",
            "請輸入四個數字：5678\n",
            "5678:0A1B\n",
            "請輸入四個數字：1234\n",
            "1234:0A2B\n",
            "請輸入四個數字：3490\n",
            "3490:1A1B\n",
            "請輸入四個數字：6419\n",
            "6419:4A0B\n",
            "答對了！總共猜了4次\n"
          ]
        }
      ]
    }
  ]
}