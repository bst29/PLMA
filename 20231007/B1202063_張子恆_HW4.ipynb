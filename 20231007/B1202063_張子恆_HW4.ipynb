{
  "nbformat": 4,
  "nbformat_minor": 0,
  "metadata": {
    "colab": {
      "provenance": []
    },
    "kernelspec": {
      "name": "python3",
      "display_name": "Python 3"
    },
    "language_info": {
      "name": "python"
    }
  },
  "cells": [
    {
      "cell_type": "code",
      "execution_count": null,
      "metadata": {
        "colab": {
          "base_uri": "https://localhost:8080/"
        },
        "id": "xhZeQ1Kwnwkb",
        "outputId": "b2fdef00-2af5-4272-eb82-f3904be075e0"
      },
      "outputs": [
        {
          "output_type": "stream",
          "name": "stdout",
          "text": [
            "成績90 80 80 90 100\n",
            "86.66666666666667\n"
          ]
        }
      ],
      "source": [
        "a = input('成績')\n",
        "b = a.split()\n",
        "b[0] = float(b[0])\n",
        "b[1] = float(b[1])\n",
        "b[2] = float(b[2])\n",
        "b[3] = float(b[3])\n",
        "b[4] = float(b[4])\n",
        "b.sort()\n",
        "del b[0]\n",
        "del b[3]\n",
        "c = (b[0]+b[1]+b[2])/3\n",
        "print(c)"
      ]
    },
    {
      "cell_type": "code",
      "source": [
        "a = str(input('兩個數字，一個運算符號'))\n",
        "b = a.split()\n",
        "b[0] = float(b[0])\n",
        "b[2] = float(b[2])\n",
        "if b[1]=='+':\n",
        "  c=b[0]+b[2]\n",
        "elif b[1]=='-':\n",
        "  c=b[0]-b[2]\n",
        "elif b[1]=='*':\n",
        "  c=b[0]*b[2]\n",
        "elif b[1]=='/':\n",
        "  c=b[0/b[2]]\n",
        "print(c)"
      ],
      "metadata": {
        "colab": {
          "base_uri": "https://localhost:8080/"
        },
        "id": "fDgNEjNpzJKu",
        "outputId": "19883cb4-f3a6-4ee5-9170-08a0f961e3ec"
      },
      "execution_count": null,
      "outputs": [
        {
          "output_type": "stream",
          "name": "stdout",
          "text": [
            "兩個數字，一個運算符號8 + 2\n",
            "10.0\n"
          ]
        }
      ]
    },
    {
      "cell_type": "code",
      "source": [
        "a = float(input('年份'))\n",
        "b = a%4\n",
        "c = a%100\n",
        "d = a%400\n",
        "if a <= 1582:\n",
        "    if b==0:\n",
        "      print('閏年')\n",
        "    else:\n",
        "      print('平年')\n",
        "else:\n",
        "    if b==0 and c!=0:\n",
        "      print('閏年')\n",
        "    elif d==0:\n",
        "      print('閏年')\n",
        "    else:\n",
        "      print('平年')"
      ],
      "metadata": {
        "colab": {
          "base_uri": "https://localhost:8080/"
        },
        "id": "vpBS2nP716v5",
        "outputId": "d6ed06d0-8b2f-48f3-e7ea-2354223aaefd"
      },
      "execution_count": null,
      "outputs": [
        {
          "output_type": "stream",
          "name": "stdout",
          "text": [
            "年份2000\n",
            "閏年\n"
          ]
        }
      ]
    }
  ]
}